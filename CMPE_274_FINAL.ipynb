{
 "cells": [
  {
   "cell_type": "markdown",
   "metadata": {},
   "source": [
    "# Team 5: Fall Cmp 274"
   ]
  },
  {
   "cell_type": "code",
   "execution_count": null,
   "metadata": {
    "colab": {
     "base_uri": "https://localhost:8080/"
    },
    "executionInfo": {
     "elapsed": 20221,
     "status": "ok",
     "timestamp": 1651010576096,
     "user": {
      "displayName": "Shaunak Bhatlawande",
      "userId": "09453063941905038983"
     },
     "user_tz": 420
    },
    "id": "5-Pw_oIdmdPd",
    "outputId": "2c1eb39f-8014-4367-980c-d38917bdd7a1"
   },
   "outputs": [
    {
     "name": "stdout",
     "output_type": "stream",
     "text": [
      "Mounted at /content/drive\n"
     ]
    }
   ],
   "source": [
    "from google.colab import drive\n",
    "drive.mount('/content/drive')"
   ]
  },
  {
   "cell_type": "code",
   "execution_count": null,
   "metadata": {
    "id": "Je8Qj1MQ5jSG"
   },
   "outputs": [],
   "source": [
    "import numpy as np\n",
    "import pandas as pd"
   ]
  },
  {
   "cell_type": "code",
   "execution_count": null,
   "metadata": {
    "id": "JeohI13C5nYD"
   },
   "outputs": [],
   "source": [
    "data = pd.read_csv(\"/content/drive/My Drive/274/2019-Dec.csv\")"
   ]
  },
  {
   "cell_type": "code",
   "execution_count": null,
   "metadata": {
    "colab": {
     "base_uri": "https://localhost:8080/",
     "height": 424
    },
    "executionInfo": {
     "elapsed": 23,
     "status": "ok",
     "timestamp": 1651010642313,
     "user": {
      "displayName": "Shaunak Bhatlawande",
      "userId": "09453063941905038983"
     },
     "user_tz": 420
    },
    "id": "TdRxtPe_5uEs",
    "outputId": "741d2a87-0bd8-453d-f48a-c906963d76d2",
    "scrolled": true
   },
   "outputs": [
    {
     "data": {
      "text/html": [
       "\n",
       "  <div id=\"df-e9c35c47-ab1b-4f92-9765-ca9e444be52a\">\n",
       "    <div class=\"colab-df-container\">\n",
       "      <div>\n",
       "<style scoped>\n",
       "    .dataframe tbody tr th:only-of-type {\n",
       "        vertical-align: middle;\n",
       "    }\n",
       "\n",
       "    .dataframe tbody tr th {\n",
       "        vertical-align: top;\n",
       "    }\n",
       "\n",
       "    .dataframe thead th {\n",
       "        text-align: right;\n",
       "    }\n",
       "</style>\n",
       "<table border=\"1\" class=\"dataframe\">\n",
       "  <thead>\n",
       "    <tr style=\"text-align: right;\">\n",
       "      <th></th>\n",
       "      <th>event_time</th>\n",
       "      <th>event_type</th>\n",
       "      <th>product_id</th>\n",
       "      <th>category_id</th>\n",
       "      <th>category_code</th>\n",
       "      <th>brand</th>\n",
       "      <th>price</th>\n",
       "      <th>user_id</th>\n",
       "      <th>user_session</th>\n",
       "    </tr>\n",
       "  </thead>\n",
       "  <tbody>\n",
       "    <tr>\n",
       "      <th>0</th>\n",
       "      <td>2019-12-01 00:00:00 UTC</td>\n",
       "      <td>remove_from_cart</td>\n",
       "      <td>5712790</td>\n",
       "      <td>1487580005268456287</td>\n",
       "      <td>NaN</td>\n",
       "      <td>f.o.x</td>\n",
       "      <td>6.27</td>\n",
       "      <td>576802932</td>\n",
       "      <td>51d85cb0-897f-48d2-918b-ad63965c12dc</td>\n",
       "    </tr>\n",
       "    <tr>\n",
       "      <th>1</th>\n",
       "      <td>2019-12-01 00:00:00 UTC</td>\n",
       "      <td>view</td>\n",
       "      <td>5764655</td>\n",
       "      <td>1487580005411062629</td>\n",
       "      <td>NaN</td>\n",
       "      <td>cnd</td>\n",
       "      <td>29.05</td>\n",
       "      <td>412120092</td>\n",
       "      <td>8adff31e-2051-4894-9758-224bfa8aec18</td>\n",
       "    </tr>\n",
       "    <tr>\n",
       "      <th>2</th>\n",
       "      <td>2019-12-01 00:00:02 UTC</td>\n",
       "      <td>cart</td>\n",
       "      <td>4958</td>\n",
       "      <td>1487580009471148064</td>\n",
       "      <td>NaN</td>\n",
       "      <td>runail</td>\n",
       "      <td>1.19</td>\n",
       "      <td>494077766</td>\n",
       "      <td>c99a50e8-2fac-4c4d-89ec-41c05f114554</td>\n",
       "    </tr>\n",
       "    <tr>\n",
       "      <th>3</th>\n",
       "      <td>2019-12-01 00:00:05 UTC</td>\n",
       "      <td>view</td>\n",
       "      <td>5848413</td>\n",
       "      <td>1487580007675986893</td>\n",
       "      <td>NaN</td>\n",
       "      <td>freedecor</td>\n",
       "      <td>0.79</td>\n",
       "      <td>348405118</td>\n",
       "      <td>722ffea5-73c0-4924-8e8f-371ff8031af4</td>\n",
       "    </tr>\n",
       "    <tr>\n",
       "      <th>4</th>\n",
       "      <td>2019-12-01 00:00:07 UTC</td>\n",
       "      <td>view</td>\n",
       "      <td>5824148</td>\n",
       "      <td>1487580005511725929</td>\n",
       "      <td>NaN</td>\n",
       "      <td>NaN</td>\n",
       "      <td>5.56</td>\n",
       "      <td>576005683</td>\n",
       "      <td>28172809-7e4a-45ce-bab0-5efa90117cd5</td>\n",
       "    </tr>\n",
       "    <tr>\n",
       "      <th>...</th>\n",
       "      <td>...</td>\n",
       "      <td>...</td>\n",
       "      <td>...</td>\n",
       "      <td>...</td>\n",
       "      <td>...</td>\n",
       "      <td>...</td>\n",
       "      <td>...</td>\n",
       "      <td>...</td>\n",
       "      <td>...</td>\n",
       "    </tr>\n",
       "    <tr>\n",
       "      <th>3533281</th>\n",
       "      <td>2019-12-31 23:59:39 UTC</td>\n",
       "      <td>view</td>\n",
       "      <td>5683350</td>\n",
       "      <td>1487580005671109489</td>\n",
       "      <td>NaN</td>\n",
       "      <td>masura</td>\n",
       "      <td>2.84</td>\n",
       "      <td>536812729</td>\n",
       "      <td>e4a2d47c-a956-4c46-8176-745f52ea664b</td>\n",
       "    </tr>\n",
       "    <tr>\n",
       "      <th>3533282</th>\n",
       "      <td>2019-12-31 23:59:46 UTC</td>\n",
       "      <td>view</td>\n",
       "      <td>5888097</td>\n",
       "      <td>1487580013388628160</td>\n",
       "      <td>NaN</td>\n",
       "      <td>shik</td>\n",
       "      <td>179.05</td>\n",
       "      <td>503658154</td>\n",
       "      <td>2dde9867-9e71-4a64-880d-aa68b66aae6d</td>\n",
       "    </tr>\n",
       "    <tr>\n",
       "      <th>3533283</th>\n",
       "      <td>2019-12-31 23:59:51 UTC</td>\n",
       "      <td>view</td>\n",
       "      <td>59975</td>\n",
       "      <td>1487580012096782476</td>\n",
       "      <td>NaN</td>\n",
       "      <td>NaN</td>\n",
       "      <td>7.14</td>\n",
       "      <td>595414541</td>\n",
       "      <td>4c6d80bb-5dd3-4fbb-b592-187b51db2753</td>\n",
       "    </tr>\n",
       "    <tr>\n",
       "      <th>3533284</th>\n",
       "      <td>2019-12-31 23:59:52 UTC</td>\n",
       "      <td>view</td>\n",
       "      <td>5775982</td>\n",
       "      <td>1783999063314661546</td>\n",
       "      <td>NaN</td>\n",
       "      <td>NaN</td>\n",
       "      <td>11.90</td>\n",
       "      <td>397780878</td>\n",
       "      <td>7e8a2b85-153a-44eb-a71f-b748fde14fcc</td>\n",
       "    </tr>\n",
       "    <tr>\n",
       "      <th>3533285</th>\n",
       "      <td>2019-12-31 23:59:57 UTC</td>\n",
       "      <td>view</td>\n",
       "      <td>5635090</td>\n",
       "      <td>1487580005754995573</td>\n",
       "      <td>NaN</td>\n",
       "      <td>NaN</td>\n",
       "      <td>4.44</td>\n",
       "      <td>420652863</td>\n",
       "      <td>546f6af3-a517-4752-a98b-80c4c5860711</td>\n",
       "    </tr>\n",
       "  </tbody>\n",
       "</table>\n",
       "<p>3533286 rows × 9 columns</p>\n",
       "</div>\n",
       "      <button class=\"colab-df-convert\" onclick=\"convertToInteractive('df-e9c35c47-ab1b-4f92-9765-ca9e444be52a')\"\n",
       "              title=\"Convert this dataframe to an interactive table.\"\n",
       "              style=\"display:none;\">\n",
       "        \n",
       "  <svg xmlns=\"http://www.w3.org/2000/svg\" height=\"24px\"viewBox=\"0 0 24 24\"\n",
       "       width=\"24px\">\n",
       "    <path d=\"M0 0h24v24H0V0z\" fill=\"none\"/>\n",
       "    <path d=\"M18.56 5.44l.94 2.06.94-2.06 2.06-.94-2.06-.94-.94-2.06-.94 2.06-2.06.94zm-11 1L8.5 8.5l.94-2.06 2.06-.94-2.06-.94L8.5 2.5l-.94 2.06-2.06.94zm10 10l.94 2.06.94-2.06 2.06-.94-2.06-.94-.94-2.06-.94 2.06-2.06.94z\"/><path d=\"M17.41 7.96l-1.37-1.37c-.4-.4-.92-.59-1.43-.59-.52 0-1.04.2-1.43.59L10.3 9.45l-7.72 7.72c-.78.78-.78 2.05 0 2.83L4 21.41c.39.39.9.59 1.41.59.51 0 1.02-.2 1.41-.59l7.78-7.78 2.81-2.81c.8-.78.8-2.07 0-2.86zM5.41 20L4 18.59l7.72-7.72 1.47 1.35L5.41 20z\"/>\n",
       "  </svg>\n",
       "      </button>\n",
       "      \n",
       "  <style>\n",
       "    .colab-df-container {\n",
       "      display:flex;\n",
       "      flex-wrap:wrap;\n",
       "      gap: 12px;\n",
       "    }\n",
       "\n",
       "    .colab-df-convert {\n",
       "      background-color: #E8F0FE;\n",
       "      border: none;\n",
       "      border-radius: 50%;\n",
       "      cursor: pointer;\n",
       "      display: none;\n",
       "      fill: #1967D2;\n",
       "      height: 32px;\n",
       "      padding: 0 0 0 0;\n",
       "      width: 32px;\n",
       "    }\n",
       "\n",
       "    .colab-df-convert:hover {\n",
       "      background-color: #E2EBFA;\n",
       "      box-shadow: 0px 1px 2px rgba(60, 64, 67, 0.3), 0px 1px 3px 1px rgba(60, 64, 67, 0.15);\n",
       "      fill: #174EA6;\n",
       "    }\n",
       "\n",
       "    [theme=dark] .colab-df-convert {\n",
       "      background-color: #3B4455;\n",
       "      fill: #D2E3FC;\n",
       "    }\n",
       "\n",
       "    [theme=dark] .colab-df-convert:hover {\n",
       "      background-color: #434B5C;\n",
       "      box-shadow: 0px 1px 3px 1px rgba(0, 0, 0, 0.15);\n",
       "      filter: drop-shadow(0px 1px 2px rgba(0, 0, 0, 0.3));\n",
       "      fill: #FFFFFF;\n",
       "    }\n",
       "  </style>\n",
       "\n",
       "      <script>\n",
       "        const buttonEl =\n",
       "          document.querySelector('#df-e9c35c47-ab1b-4f92-9765-ca9e444be52a button.colab-df-convert');\n",
       "        buttonEl.style.display =\n",
       "          google.colab.kernel.accessAllowed ? 'block' : 'none';\n",
       "\n",
       "        async function convertToInteractive(key) {\n",
       "          const element = document.querySelector('#df-e9c35c47-ab1b-4f92-9765-ca9e444be52a');\n",
       "          const dataTable =\n",
       "            await google.colab.kernel.invokeFunction('convertToInteractive',\n",
       "                                                     [key], {});\n",
       "          if (!dataTable) return;\n",
       "\n",
       "          const docLinkHtml = 'Like what you see? Visit the ' +\n",
       "            '<a target=\"_blank\" href=https://colab.research.google.com/notebooks/data_table.ipynb>data table notebook</a>'\n",
       "            + ' to learn more about interactive tables.';\n",
       "          element.innerHTML = '';\n",
       "          dataTable['output_type'] = 'display_data';\n",
       "          await google.colab.output.renderOutput(dataTable, element);\n",
       "          const docLink = document.createElement('div');\n",
       "          docLink.innerHTML = docLinkHtml;\n",
       "          element.appendChild(docLink);\n",
       "        }\n",
       "      </script>\n",
       "    </div>\n",
       "  </div>\n",
       "  "
      ],
      "text/plain": [
       "                      event_time        event_type  product_id  \\\n",
       "0        2019-12-01 00:00:00 UTC  remove_from_cart     5712790   \n",
       "1        2019-12-01 00:00:00 UTC              view     5764655   \n",
       "2        2019-12-01 00:00:02 UTC              cart        4958   \n",
       "3        2019-12-01 00:00:05 UTC              view     5848413   \n",
       "4        2019-12-01 00:00:07 UTC              view     5824148   \n",
       "...                          ...               ...         ...   \n",
       "3533281  2019-12-31 23:59:39 UTC              view     5683350   \n",
       "3533282  2019-12-31 23:59:46 UTC              view     5888097   \n",
       "3533283  2019-12-31 23:59:51 UTC              view       59975   \n",
       "3533284  2019-12-31 23:59:52 UTC              view     5775982   \n",
       "3533285  2019-12-31 23:59:57 UTC              view     5635090   \n",
       "\n",
       "                 category_id category_code      brand   price    user_id  \\\n",
       "0        1487580005268456287           NaN      f.o.x    6.27  576802932   \n",
       "1        1487580005411062629           NaN        cnd   29.05  412120092   \n",
       "2        1487580009471148064           NaN     runail    1.19  494077766   \n",
       "3        1487580007675986893           NaN  freedecor    0.79  348405118   \n",
       "4        1487580005511725929           NaN        NaN    5.56  576005683   \n",
       "...                      ...           ...        ...     ...        ...   \n",
       "3533281  1487580005671109489           NaN     masura    2.84  536812729   \n",
       "3533282  1487580013388628160           NaN       shik  179.05  503658154   \n",
       "3533283  1487580012096782476           NaN        NaN    7.14  595414541   \n",
       "3533284  1783999063314661546           NaN        NaN   11.90  397780878   \n",
       "3533285  1487580005754995573           NaN        NaN    4.44  420652863   \n",
       "\n",
       "                                 user_session  \n",
       "0        51d85cb0-897f-48d2-918b-ad63965c12dc  \n",
       "1        8adff31e-2051-4894-9758-224bfa8aec18  \n",
       "2        c99a50e8-2fac-4c4d-89ec-41c05f114554  \n",
       "3        722ffea5-73c0-4924-8e8f-371ff8031af4  \n",
       "4        28172809-7e4a-45ce-bab0-5efa90117cd5  \n",
       "...                                       ...  \n",
       "3533281  e4a2d47c-a956-4c46-8176-745f52ea664b  \n",
       "3533282  2dde9867-9e71-4a64-880d-aa68b66aae6d  \n",
       "3533283  4c6d80bb-5dd3-4fbb-b592-187b51db2753  \n",
       "3533284  7e8a2b85-153a-44eb-a71f-b748fde14fcc  \n",
       "3533285  546f6af3-a517-4752-a98b-80c4c5860711  \n",
       "\n",
       "[3533286 rows x 9 columns]"
      ]
     },
     "execution_count": 4,
     "metadata": {},
     "output_type": "execute_result"
    }
   ],
   "source": [
    "data"
   ]
  },
  {
   "cell_type": "code",
   "execution_count": null,
   "metadata": {
    "id": "6DMUYPkqm3ed"
   },
   "outputs": [],
   "source": [
    "%load_ext rpy2.ipython"
   ]
  },
  {
   "cell_type": "markdown",
   "metadata": {
    "id": "eYbbNZkRvFVE"
   },
   "source": [
    "## 1. Abstract and Business Objective \n",
    "The main objective of this analysis revolves around identifying key insights across each sector of the funneling process from viewing a product, adding / removing to/from cart, to making a purchase so as to optimize conversion rates by providing critical recommendations and performance improvements. This is inclusive of uncovering business intelligence, associated recommendations on performance improvements and machine learning techniques to support the same using R."
   ]
  },
  {
   "cell_type": "markdown",
   "metadata": {
    "id": "aqbiihdJvbc2"
   },
   "source": [
    "## 2. Data Preprocessing¶\n",
    "The dataset did not contain any missing values. Outlier analysis revealed nominal negative price irregularities in the Price attribute, this is assumed to be caused due to human error and are dropped. Price attribute is also assumed to be the selling price of the product. The Time attribute was extracted to Date and Time. Looking into the structure of the data, revealed some irregularities with Category code and Brand. Since more than 50% of these observations were not labelled, I have chosen not to include these two attributes in the analysis."
   ]
  },
  {
   "cell_type": "code",
   "execution_count": null,
   "metadata": {
    "colab": {
     "base_uri": "https://localhost:8080/"
    },
    "executionInfo": {
     "elapsed": 28277,
     "status": "ok",
     "timestamp": 1650934730922,
     "user": {
      "displayName": "Radhika Vyas",
      "userId": "10324785507799383230"
     },
     "user_tz": 420
    },
    "id": "4MScQMI2nDFo",
    "outputId": "e5a2431f-172d-441d-8680-110c277f32bb"
   },
   "outputs": [
    {
     "name": "stderr",
     "output_type": "stream",
     "text": [
      "R[write to console]: Installing package into ‘/usr/local/lib/R/site-library’\n",
      "(as ‘lib’ is unspecified)\n",
      "\n",
      "R[write to console]: trying URL 'https://cran.rstudio.com/src/contrib/hms_1.1.1.tar.gz'\n",
      "\n",
      "R[write to console]: Content type 'application/x-gzip'\n",
      "R[write to console]:  length 43117 bytes (42 KB)\n",
      "\n",
      "R[write to console]: =\n",
      "R[write to console]: =\n",
      "R[write to console]: =\n",
      "R[write to console]: =\n",
      "R[write to console]: =\n",
      "R[write to console]: =\n",
      "R[write to console]: =\n",
      "R[write to console]: =\n",
      "R[write to console]: =\n",
      "R[write to console]: =\n",
      "R[write to console]: =\n",
      "R[write to console]: =\n",
      "R[write to console]: =\n",
      "R[write to console]: =\n",
      "R[write to console]: =\n",
      "R[write to console]: =\n",
      "R[write to console]: =\n",
      "R[write to console]: =\n",
      "R[write to console]: =\n",
      "R[write to console]: =\n",
      "R[write to console]: =\n",
      "R[write to console]: =\n",
      "R[write to console]: =\n",
      "R[write to console]: =\n",
      "R[write to console]: =\n",
      "R[write to console]: =\n",
      "R[write to console]: =\n",
      "R[write to console]: =\n",
      "R[write to console]: =\n",
      "R[write to console]: =\n",
      "R[write to console]: =\n",
      "R[write to console]: =\n",
      "R[write to console]: =\n",
      "R[write to console]: =\n",
      "R[write to console]: =\n",
      "R[write to console]: =\n",
      "R[write to console]: =\n",
      "R[write to console]: =\n",
      "R[write to console]: =\n",
      "R[write to console]: =\n",
      "R[write to console]: =\n",
      "R[write to console]: =\n",
      "R[write to console]: =\n",
      "R[write to console]: =\n",
      "R[write to console]: =\n",
      "R[write to console]: =\n",
      "R[write to console]: =\n",
      "R[write to console]: =\n",
      "R[write to console]: =\n",
      "R[write to console]: =\n",
      "R[write to console]: \n",
      "\n",
      "R[write to console]: downloaded 42 KB\n",
      "\n",
      "\n",
      "R[write to console]: \n",
      "\n",
      "R[write to console]: \n",
      "R[write to console]: The downloaded source packages are in\n",
      "\t‘/tmp/RtmpLu9Rak/downloaded_packages’\n",
      "R[write to console]: \n",
      "R[write to console]: \n",
      "\n",
      "R[write to console]: Installing package into ‘/usr/local/lib/R/site-library’\n",
      "(as ‘lib’ is unspecified)\n",
      "\n",
      "R[write to console]: trying URL 'https://cran.rstudio.com/src/contrib/gridExtra_2.3.tar.gz'\n",
      "\n",
      "R[write to console]: Content type 'application/x-gzip'\n",
      "R[write to console]:  length 1062844 bytes (1.0 MB)\n",
      "\n",
      "R[write to console]: =\n",
      "R[write to console]: =\n",
      "R[write to console]: =\n",
      "R[write to console]: =\n",
      "R[write to console]: =\n",
      "R[write to console]: =\n",
      "R[write to console]: =\n",
      "R[write to console]: =\n",
      "R[write to console]: =\n",
      "R[write to console]: =\n",
      "R[write to console]: =\n",
      "R[write to console]: =\n",
      "R[write to console]: =\n",
      "R[write to console]: =\n",
      "R[write to console]: =\n",
      "R[write to console]: =\n",
      "R[write to console]: =\n",
      "R[write to console]: =\n",
      "R[write to console]: =\n",
      "R[write to console]: =\n",
      "R[write to console]: =\n",
      "R[write to console]: =\n",
      "R[write to console]: =\n",
      "R[write to console]: =\n",
      "R[write to console]: =\n",
      "R[write to console]: =\n",
      "R[write to console]: =\n",
      "R[write to console]: =\n",
      "R[write to console]: =\n",
      "R[write to console]: =\n",
      "R[write to console]: =\n",
      "R[write to console]: =\n",
      "R[write to console]: =\n",
      "R[write to console]: =\n",
      "R[write to console]: =\n",
      "R[write to console]: =\n",
      "R[write to console]: =\n",
      "R[write to console]: =\n",
      "R[write to console]: =\n",
      "R[write to console]: =\n",
      "R[write to console]: =\n",
      "R[write to console]: =\n",
      "R[write to console]: =\n",
      "R[write to console]: =\n",
      "R[write to console]: =\n",
      "R[write to console]: =\n",
      "R[write to console]: =\n",
      "R[write to console]: =\n",
      "R[write to console]: =\n",
      "R[write to console]: =\n",
      "R[write to console]: \n",
      "\n",
      "R[write to console]: downloaded 1.0 MB\n",
      "\n",
      "\n",
      "R[write to console]: \n",
      "\n",
      "R[write to console]: \n",
      "R[write to console]: The downloaded source packages are in\n",
      "\t‘/tmp/RtmpLu9Rak/downloaded_packages’\n",
      "R[write to console]: \n",
      "R[write to console]: \n",
      "\n",
      "R[write to console]: Installing package into ‘/usr/local/lib/R/site-library’\n",
      "(as ‘lib’ is unspecified)\n",
      "\n",
      "R[write to console]: trying URL 'https://cran.rstudio.com/src/contrib/lubridate_1.8.0.tar.gz'\n",
      "\n",
      "R[write to console]: Content type 'application/x-gzip'\n",
      "R[write to console]:  length 475704 bytes (464 KB)\n",
      "\n",
      "R[write to console]: =\n",
      "R[write to console]: =\n",
      "R[write to console]: =\n",
      "R[write to console]: =\n",
      "R[write to console]: =\n",
      "R[write to console]: =\n",
      "R[write to console]: =\n",
      "R[write to console]: =\n",
      "R[write to console]: =\n",
      "R[write to console]: =\n",
      "R[write to console]: =\n",
      "R[write to console]: =\n",
      "R[write to console]: =\n",
      "R[write to console]: =\n",
      "R[write to console]: =\n",
      "R[write to console]: =\n",
      "R[write to console]: =\n",
      "R[write to console]: =\n",
      "R[write to console]: =\n",
      "R[write to console]: =\n",
      "R[write to console]: =\n",
      "R[write to console]: =\n",
      "R[write to console]: =\n",
      "R[write to console]: =\n",
      "R[write to console]: =\n",
      "R[write to console]: =\n",
      "R[write to console]: =\n",
      "R[write to console]: =\n",
      "R[write to console]: =\n",
      "R[write to console]: =\n",
      "R[write to console]: =\n",
      "R[write to console]: =\n",
      "R[write to console]: =\n",
      "R[write to console]: =\n",
      "R[write to console]: =\n",
      "R[write to console]: =\n",
      "R[write to console]: =\n",
      "R[write to console]: =\n",
      "R[write to console]: =\n",
      "R[write to console]: =\n",
      "R[write to console]: =\n",
      "R[write to console]: =\n",
      "R[write to console]: =\n",
      "R[write to console]: =\n",
      "R[write to console]: =\n",
      "R[write to console]: =\n",
      "R[write to console]: =\n",
      "R[write to console]: =\n",
      "R[write to console]: =\n",
      "R[write to console]: =\n",
      "R[write to console]: \n",
      "\n",
      "R[write to console]: downloaded 464 KB\n",
      "\n",
      "\n",
      "R[write to console]: \n",
      "\n",
      "R[write to console]: \n",
      "R[write to console]: The downloaded source packages are in\n",
      "\t‘/tmp/RtmpLu9Rak/downloaded_packages’\n",
      "R[write to console]: \n",
      "R[write to console]: \n",
      "\n"
     ]
    }
   ],
   "source": [
    "%%R\n",
    "\n",
    "#install the necessary library \n",
    "install.packages(\"hms\")\n",
    "install.packages(\"gridExtra\")\n",
    "install.packages(\"lubridate\")"
   ]
  },
  {
   "cell_type": "code",
   "execution_count": null,
   "metadata": {
    "colab": {
     "base_uri": "https://localhost:8080/",
     "height": 710
    },
    "executionInfo": {
     "elapsed": 118,
     "status": "error",
     "timestamp": 1650934752091,
     "user": {
      "displayName": "Radhika Vyas",
      "userId": "10324785507799383230"
     },
     "user_tz": 420
    },
    "id": "vgfjVOrWnPpr",
    "outputId": "3c7fb192-361e-4e78-d854-812ef1127dcf"
   },
   "outputs": [
    {
     "name": "stderr",
     "output_type": "stream",
     "text": [
      "R[write to console]: Error in file(file, \"rt\") : cannot open the connection\n",
      "\n",
      "R[write to console]: In addition: \n",
      "R[write to console]: Warning message:\n",
      "\n",
      "R[write to console]: In file(file, \"rt\") :\n",
      "R[write to console]: \n",
      " \n",
      "R[write to console]:  cannot open file '/content/drive/My Drive/274/2019-Dec.csv': No such file or directory\n",
      "\n"
     ]
    },
    {
     "name": "stdout",
     "output_type": "stream",
     "text": [
      "\n",
      "Error in file(file, \"rt\") : cannot open the connection\n"
     ]
    },
    {
     "ename": "RInterpreterError",
     "evalue": "ignored",
     "output_type": "error",
     "traceback": [
      "\u001b[0;31m---------------------------------------------------------------------------\u001b[0m",
      "\u001b[0;31mRRuntimeError\u001b[0m                             Traceback (most recent call last)",
      "\u001b[0;32m/usr/local/lib/python3.7/dist-packages/rpy2/ipython/rmagic.py\u001b[0m in \u001b[0;36meval\u001b[0;34m(self, code)\u001b[0m\n\u001b[1;32m    267\u001b[0m                 \u001b[0;31m# Need the newline in case the last line in code is a comment.\u001b[0m\u001b[0;34m\u001b[0m\u001b[0;34m\u001b[0m\u001b[0;34m\u001b[0m\u001b[0m\n\u001b[0;32m--> 268\u001b[0;31m                 \u001b[0mvalue\u001b[0m\u001b[0;34m,\u001b[0m \u001b[0mvisible\u001b[0m \u001b[0;34m=\u001b[0m \u001b[0mro\u001b[0m\u001b[0;34m.\u001b[0m\u001b[0mr\u001b[0m\u001b[0;34m(\u001b[0m\u001b[0;34m\"withVisible({%s\\n})\"\u001b[0m \u001b[0;34m%\u001b[0m \u001b[0mcode\u001b[0m\u001b[0;34m)\u001b[0m\u001b[0;34m\u001b[0m\u001b[0;34m\u001b[0m\u001b[0m\n\u001b[0m\u001b[1;32m    269\u001b[0m             \u001b[0;32mexcept\u001b[0m \u001b[0;34m(\u001b[0m\u001b[0mri\u001b[0m\u001b[0;34m.\u001b[0m\u001b[0membedded\u001b[0m\u001b[0;34m.\u001b[0m\u001b[0mRRuntimeError\u001b[0m\u001b[0;34m,\u001b[0m \u001b[0mValueError\u001b[0m\u001b[0;34m)\u001b[0m \u001b[0;32mas\u001b[0m \u001b[0mexception\u001b[0m\u001b[0;34m:\u001b[0m\u001b[0;34m\u001b[0m\u001b[0;34m\u001b[0m\u001b[0m\n",
      "\u001b[0;32m/usr/local/lib/python3.7/dist-packages/rpy2/robjects/__init__.py\u001b[0m in \u001b[0;36m__call__\u001b[0;34m(self, string)\u001b[0m\n\u001b[1;32m    437\u001b[0m         \u001b[0mp\u001b[0m \u001b[0;34m=\u001b[0m \u001b[0mrinterface\u001b[0m\u001b[0;34m.\u001b[0m\u001b[0mparse\u001b[0m\u001b[0;34m(\u001b[0m\u001b[0mstring\u001b[0m\u001b[0;34m)\u001b[0m\u001b[0;34m\u001b[0m\u001b[0;34m\u001b[0m\u001b[0m\n\u001b[0;32m--> 438\u001b[0;31m         \u001b[0mres\u001b[0m \u001b[0;34m=\u001b[0m \u001b[0mself\u001b[0m\u001b[0;34m.\u001b[0m\u001b[0meval\u001b[0m\u001b[0;34m(\u001b[0m\u001b[0mp\u001b[0m\u001b[0;34m)\u001b[0m\u001b[0;34m\u001b[0m\u001b[0;34m\u001b[0m\u001b[0m\n\u001b[0m\u001b[1;32m    439\u001b[0m         \u001b[0;32mreturn\u001b[0m \u001b[0mconversion\u001b[0m\u001b[0;34m.\u001b[0m\u001b[0mrpy2py\u001b[0m\u001b[0;34m(\u001b[0m\u001b[0mres\u001b[0m\u001b[0;34m)\u001b[0m\u001b[0;34m\u001b[0m\u001b[0;34m\u001b[0m\u001b[0m\n",
      "\u001b[0;32m/usr/local/lib/python3.7/dist-packages/rpy2/robjects/functions.py\u001b[0m in \u001b[0;36m__call__\u001b[0;34m(self, *args, **kwargs)\u001b[0m\n\u001b[1;32m    198\u001b[0m         return (super(SignatureTranslatedFunction, self)\n\u001b[0;32m--> 199\u001b[0;31m                 .__call__(*args, **kwargs))\n\u001b[0m\u001b[1;32m    200\u001b[0m \u001b[0;34m\u001b[0m\u001b[0m\n",
      "\u001b[0;32m/usr/local/lib/python3.7/dist-packages/rpy2/robjects/functions.py\u001b[0m in \u001b[0;36m__call__\u001b[0;34m(self, *args, **kwargs)\u001b[0m\n\u001b[1;32m    124\u001b[0m                 \u001b[0mnew_kwargs\u001b[0m\u001b[0;34m[\u001b[0m\u001b[0mk\u001b[0m\u001b[0;34m]\u001b[0m \u001b[0;34m=\u001b[0m \u001b[0mconversion\u001b[0m\u001b[0;34m.\u001b[0m\u001b[0mpy2rpy\u001b[0m\u001b[0;34m(\u001b[0m\u001b[0mv\u001b[0m\u001b[0;34m)\u001b[0m\u001b[0;34m\u001b[0m\u001b[0;34m\u001b[0m\u001b[0m\n\u001b[0;32m--> 125\u001b[0;31m         \u001b[0mres\u001b[0m \u001b[0;34m=\u001b[0m \u001b[0msuper\u001b[0m\u001b[0;34m(\u001b[0m\u001b[0mFunction\u001b[0m\u001b[0;34m,\u001b[0m \u001b[0mself\u001b[0m\u001b[0;34m)\u001b[0m\u001b[0;34m.\u001b[0m\u001b[0m__call__\u001b[0m\u001b[0;34m(\u001b[0m\u001b[0;34m*\u001b[0m\u001b[0mnew_args\u001b[0m\u001b[0;34m,\u001b[0m \u001b[0;34m**\u001b[0m\u001b[0mnew_kwargs\u001b[0m\u001b[0;34m)\u001b[0m\u001b[0;34m\u001b[0m\u001b[0;34m\u001b[0m\u001b[0m\n\u001b[0m\u001b[1;32m    126\u001b[0m         \u001b[0mres\u001b[0m \u001b[0;34m=\u001b[0m \u001b[0mconversion\u001b[0m\u001b[0;34m.\u001b[0m\u001b[0mrpy2py\u001b[0m\u001b[0;34m(\u001b[0m\u001b[0mres\u001b[0m\u001b[0;34m)\u001b[0m\u001b[0;34m\u001b[0m\u001b[0;34m\u001b[0m\u001b[0m\n",
      "\u001b[0;32m/usr/local/lib/python3.7/dist-packages/rpy2/rinterface_lib/conversion.py\u001b[0m in \u001b[0;36m_\u001b[0;34m(*args, **kwargs)\u001b[0m\n\u001b[1;32m     44\u001b[0m     \u001b[0;32mdef\u001b[0m \u001b[0m_\u001b[0m\u001b[0;34m(\u001b[0m\u001b[0;34m*\u001b[0m\u001b[0margs\u001b[0m\u001b[0;34m,\u001b[0m \u001b[0;34m**\u001b[0m\u001b[0mkwargs\u001b[0m\u001b[0;34m)\u001b[0m\u001b[0;34m:\u001b[0m\u001b[0;34m\u001b[0m\u001b[0;34m\u001b[0m\u001b[0m\n\u001b[0;32m---> 45\u001b[0;31m         \u001b[0mcdata\u001b[0m \u001b[0;34m=\u001b[0m \u001b[0mfunction\u001b[0m\u001b[0;34m(\u001b[0m\u001b[0;34m*\u001b[0m\u001b[0margs\u001b[0m\u001b[0;34m,\u001b[0m \u001b[0;34m**\u001b[0m\u001b[0mkwargs\u001b[0m\u001b[0;34m)\u001b[0m\u001b[0;34m\u001b[0m\u001b[0;34m\u001b[0m\u001b[0m\n\u001b[0m\u001b[1;32m     46\u001b[0m         \u001b[0;31m# TODO: test cdata is of the expected CType\u001b[0m\u001b[0;34m\u001b[0m\u001b[0;34m\u001b[0m\u001b[0;34m\u001b[0m\u001b[0m\n",
      "\u001b[0;32m/usr/local/lib/python3.7/dist-packages/rpy2/rinterface.py\u001b[0m in \u001b[0;36m__call__\u001b[0;34m(self, *args, **kwargs)\u001b[0m\n\u001b[1;32m    679\u001b[0m             \u001b[0;32mif\u001b[0m \u001b[0merror_occured\u001b[0m\u001b[0;34m[\u001b[0m\u001b[0;36m0\u001b[0m\u001b[0;34m]\u001b[0m\u001b[0;34m:\u001b[0m\u001b[0;34m\u001b[0m\u001b[0;34m\u001b[0m\u001b[0m\n\u001b[0;32m--> 680\u001b[0;31m                 \u001b[0;32mraise\u001b[0m \u001b[0membedded\u001b[0m\u001b[0;34m.\u001b[0m\u001b[0mRRuntimeError\u001b[0m\u001b[0;34m(\u001b[0m\u001b[0m_rinterface\u001b[0m\u001b[0;34m.\u001b[0m\u001b[0m_geterrmessage\u001b[0m\u001b[0;34m(\u001b[0m\u001b[0;34m)\u001b[0m\u001b[0;34m)\u001b[0m\u001b[0;34m\u001b[0m\u001b[0;34m\u001b[0m\u001b[0m\n\u001b[0m\u001b[1;32m    681\u001b[0m         \u001b[0;32mreturn\u001b[0m \u001b[0mres\u001b[0m\u001b[0;34m\u001b[0m\u001b[0;34m\u001b[0m\u001b[0m\n",
      "\u001b[0;31mRRuntimeError\u001b[0m: Error in file(file, \"rt\") : cannot open the connection\n",
      "\nDuring handling of the above exception, another exception occurred:\n",
      "\u001b[0;31mRInterpreterError\u001b[0m                         Traceback (most recent call last)",
      "\u001b[0;32m<ipython-input-6-f2e45985b716>\u001b[0m in \u001b[0;36m<module>\u001b[0;34m()\u001b[0m\n\u001b[0;32m----> 1\u001b[0;31m \u001b[0mget_ipython\u001b[0m\u001b[0;34m(\u001b[0m\u001b[0;34m)\u001b[0m\u001b[0;34m.\u001b[0m\u001b[0mrun_cell_magic\u001b[0m\u001b[0;34m(\u001b[0m\u001b[0;34m'R'\u001b[0m\u001b[0;34m,\u001b[0m \u001b[0;34m''\u001b[0m\u001b[0;34m,\u001b[0m \u001b[0;34m'#read the data \\ndata_2019_dec <- read.csv(\"/content/drive/My Drive/274/2019-Dec.csv\")\\ndata_2019_nov <- read.csv(\"/content/drive/My Drive/274/2019-Nov.csv\")\\ndata_2019_oct <- read.csv(\"/content/drive/My Drive/274/2019-Oct.csv\")\\ndata_2020_feb <- read.csv(\"/content/drive/My Drive/274/2020-Feb.csv\")\\ndata_2020_jan <- read.csv(\"/content/drive/My Drive/274/2020-Jan.csv\")'\u001b[0m\u001b[0;34m)\u001b[0m\u001b[0;34m\u001b[0m\u001b[0;34m\u001b[0m\u001b[0m\n\u001b[0m",
      "\u001b[0;32m/usr/local/lib/python3.7/dist-packages/IPython/core/interactiveshell.py\u001b[0m in \u001b[0;36mrun_cell_magic\u001b[0;34m(self, magic_name, line, cell)\u001b[0m\n\u001b[1;32m   2115\u001b[0m             \u001b[0mmagic_arg_s\u001b[0m \u001b[0;34m=\u001b[0m \u001b[0mself\u001b[0m\u001b[0;34m.\u001b[0m\u001b[0mvar_expand\u001b[0m\u001b[0;34m(\u001b[0m\u001b[0mline\u001b[0m\u001b[0;34m,\u001b[0m \u001b[0mstack_depth\u001b[0m\u001b[0;34m)\u001b[0m\u001b[0;34m\u001b[0m\u001b[0;34m\u001b[0m\u001b[0m\n\u001b[1;32m   2116\u001b[0m             \u001b[0;32mwith\u001b[0m \u001b[0mself\u001b[0m\u001b[0;34m.\u001b[0m\u001b[0mbuiltin_trap\u001b[0m\u001b[0;34m:\u001b[0m\u001b[0;34m\u001b[0m\u001b[0;34m\u001b[0m\u001b[0m\n\u001b[0;32m-> 2117\u001b[0;31m                 \u001b[0mresult\u001b[0m \u001b[0;34m=\u001b[0m \u001b[0mfn\u001b[0m\u001b[0;34m(\u001b[0m\u001b[0mmagic_arg_s\u001b[0m\u001b[0;34m,\u001b[0m \u001b[0mcell\u001b[0m\u001b[0;34m)\u001b[0m\u001b[0;34m\u001b[0m\u001b[0;34m\u001b[0m\u001b[0m\n\u001b[0m\u001b[1;32m   2118\u001b[0m             \u001b[0;32mreturn\u001b[0m \u001b[0mresult\u001b[0m\u001b[0;34m\u001b[0m\u001b[0;34m\u001b[0m\u001b[0m\n\u001b[1;32m   2119\u001b[0m \u001b[0;34m\u001b[0m\u001b[0m\n",
      "\u001b[0;32m<decorator-gen-119>\u001b[0m in \u001b[0;36mR\u001b[0;34m(self, line, cell, local_ns)\u001b[0m\n",
      "\u001b[0;32m/usr/local/lib/python3.7/dist-packages/IPython/core/magic.py\u001b[0m in \u001b[0;36m<lambda>\u001b[0;34m(f, *a, **k)\u001b[0m\n\u001b[1;32m    186\u001b[0m     \u001b[0;31m# but it's overkill for just that one bit of state.\u001b[0m\u001b[0;34m\u001b[0m\u001b[0;34m\u001b[0m\u001b[0;34m\u001b[0m\u001b[0m\n\u001b[1;32m    187\u001b[0m     \u001b[0;32mdef\u001b[0m \u001b[0mmagic_deco\u001b[0m\u001b[0;34m(\u001b[0m\u001b[0marg\u001b[0m\u001b[0;34m)\u001b[0m\u001b[0;34m:\u001b[0m\u001b[0;34m\u001b[0m\u001b[0;34m\u001b[0m\u001b[0m\n\u001b[0;32m--> 188\u001b[0;31m         \u001b[0mcall\u001b[0m \u001b[0;34m=\u001b[0m \u001b[0;32mlambda\u001b[0m \u001b[0mf\u001b[0m\u001b[0;34m,\u001b[0m \u001b[0;34m*\u001b[0m\u001b[0ma\u001b[0m\u001b[0;34m,\u001b[0m \u001b[0;34m**\u001b[0m\u001b[0mk\u001b[0m\u001b[0;34m:\u001b[0m \u001b[0mf\u001b[0m\u001b[0;34m(\u001b[0m\u001b[0;34m*\u001b[0m\u001b[0ma\u001b[0m\u001b[0;34m,\u001b[0m \u001b[0;34m**\u001b[0m\u001b[0mk\u001b[0m\u001b[0;34m)\u001b[0m\u001b[0;34m\u001b[0m\u001b[0;34m\u001b[0m\u001b[0m\n\u001b[0m\u001b[1;32m    189\u001b[0m \u001b[0;34m\u001b[0m\u001b[0m\n\u001b[1;32m    190\u001b[0m         \u001b[0;32mif\u001b[0m \u001b[0mcallable\u001b[0m\u001b[0;34m(\u001b[0m\u001b[0marg\u001b[0m\u001b[0;34m)\u001b[0m\u001b[0;34m:\u001b[0m\u001b[0;34m\u001b[0m\u001b[0;34m\u001b[0m\u001b[0m\n",
      "\u001b[0;32m/usr/local/lib/python3.7/dist-packages/rpy2/ipython/rmagic.py\u001b[0m in \u001b[0;36mR\u001b[0;34m(self, line, cell, local_ns)\u001b[0m\n\u001b[1;32m    781\u001b[0m             \u001b[0;32mif\u001b[0m \u001b[0;32mnot\u001b[0m \u001b[0me\u001b[0m\u001b[0;34m.\u001b[0m\u001b[0mstdout\u001b[0m\u001b[0;34m.\u001b[0m\u001b[0mendswith\u001b[0m\u001b[0;34m(\u001b[0m\u001b[0me\u001b[0m\u001b[0;34m.\u001b[0m\u001b[0merr\u001b[0m\u001b[0;34m)\u001b[0m\u001b[0;34m:\u001b[0m\u001b[0;34m\u001b[0m\u001b[0;34m\u001b[0m\u001b[0m\n\u001b[1;32m    782\u001b[0m                 \u001b[0mprint\u001b[0m\u001b[0;34m(\u001b[0m\u001b[0me\u001b[0m\u001b[0;34m.\u001b[0m\u001b[0merr\u001b[0m\u001b[0;34m)\u001b[0m\u001b[0;34m\u001b[0m\u001b[0;34m\u001b[0m\u001b[0m\n\u001b[0;32m--> 783\u001b[0;31m             \u001b[0;32mraise\u001b[0m \u001b[0me\u001b[0m\u001b[0;34m\u001b[0m\u001b[0;34m\u001b[0m\u001b[0m\n\u001b[0m\u001b[1;32m    784\u001b[0m         \u001b[0;32mfinally\u001b[0m\u001b[0;34m:\u001b[0m\u001b[0;34m\u001b[0m\u001b[0;34m\u001b[0m\u001b[0m\n\u001b[1;32m    785\u001b[0m             \u001b[0;32mif\u001b[0m \u001b[0mself\u001b[0m\u001b[0;34m.\u001b[0m\u001b[0mdevice\u001b[0m \u001b[0;32min\u001b[0m \u001b[0;34m[\u001b[0m\u001b[0;34m'png'\u001b[0m\u001b[0;34m,\u001b[0m \u001b[0;34m'svg'\u001b[0m\u001b[0;34m]\u001b[0m\u001b[0;34m:\u001b[0m\u001b[0;34m\u001b[0m\u001b[0;34m\u001b[0m\u001b[0m\n",
      "\u001b[0;32m/usr/local/lib/python3.7/dist-packages/rpy2/ipython/rmagic.py\u001b[0m in \u001b[0;36mR\u001b[0;34m(self, line, cell, local_ns)\u001b[0m\n\u001b[1;32m    761\u001b[0m                     \u001b[0mreturn_output\u001b[0m \u001b[0;34m=\u001b[0m \u001b[0;32mFalse\u001b[0m\u001b[0;34m\u001b[0m\u001b[0;34m\u001b[0m\u001b[0m\n\u001b[1;32m    762\u001b[0m             \u001b[0;32melse\u001b[0m\u001b[0;34m:\u001b[0m\u001b[0;34m\u001b[0m\u001b[0;34m\u001b[0m\u001b[0m\n\u001b[0;32m--> 763\u001b[0;31m                 \u001b[0mtext_result\u001b[0m\u001b[0;34m,\u001b[0m \u001b[0mresult\u001b[0m\u001b[0;34m,\u001b[0m \u001b[0mvisible\u001b[0m \u001b[0;34m=\u001b[0m \u001b[0mself\u001b[0m\u001b[0;34m.\u001b[0m\u001b[0meval\u001b[0m\u001b[0;34m(\u001b[0m\u001b[0mcode\u001b[0m\u001b[0;34m)\u001b[0m\u001b[0;34m\u001b[0m\u001b[0;34m\u001b[0m\u001b[0m\n\u001b[0m\u001b[1;32m    764\u001b[0m                 \u001b[0mtext_output\u001b[0m \u001b[0;34m+=\u001b[0m \u001b[0mtext_result\u001b[0m\u001b[0;34m\u001b[0m\u001b[0;34m\u001b[0m\u001b[0m\n\u001b[1;32m    765\u001b[0m                 \u001b[0;32mif\u001b[0m \u001b[0mvisible\u001b[0m\u001b[0;34m:\u001b[0m\u001b[0;34m\u001b[0m\u001b[0;34m\u001b[0m\u001b[0m\n",
      "\u001b[0;32m/usr/local/lib/python3.7/dist-packages/rpy2/ipython/rmagic.py\u001b[0m in \u001b[0;36meval\u001b[0;34m(self, code)\u001b[0m\n\u001b[1;32m    271\u001b[0m                 \u001b[0mwarning_or_other_msg\u001b[0m \u001b[0;34m=\u001b[0m \u001b[0mself\u001b[0m\u001b[0;34m.\u001b[0m\u001b[0mflush\u001b[0m\u001b[0;34m(\u001b[0m\u001b[0;34m)\u001b[0m\u001b[0;34m\u001b[0m\u001b[0;34m\u001b[0m\u001b[0m\n\u001b[1;32m    272\u001b[0m                 raise RInterpreterError(code, str(exception),\n\u001b[0;32m--> 273\u001b[0;31m                                         warning_or_other_msg)\n\u001b[0m\u001b[1;32m    274\u001b[0m             \u001b[0mtext_output\u001b[0m \u001b[0;34m=\u001b[0m \u001b[0mself\u001b[0m\u001b[0;34m.\u001b[0m\u001b[0mflush\u001b[0m\u001b[0;34m(\u001b[0m\u001b[0;34m)\u001b[0m\u001b[0;34m\u001b[0m\u001b[0;34m\u001b[0m\u001b[0m\n\u001b[1;32m    275\u001b[0m             \u001b[0;32mreturn\u001b[0m \u001b[0mtext_output\u001b[0m\u001b[0;34m,\u001b[0m \u001b[0mvalue\u001b[0m\u001b[0;34m,\u001b[0m \u001b[0mvisible\u001b[0m\u001b[0;34m[\u001b[0m\u001b[0;36m0\u001b[0m\u001b[0;34m]\u001b[0m\u001b[0;34m\u001b[0m\u001b[0;34m\u001b[0m\u001b[0m\n",
      "\u001b[0;31mRInterpreterError\u001b[0m: Failed to parse and evaluate line '#read the data \\ndata_2019_dec <- read.csv(\"/content/drive/My Drive/274/2019-Dec.csv\")\\ndata_2019_nov <- read.csv(\"/content/drive/My Drive/274/2019-Nov.csv\")\\ndata_2019_oct <- read.csv(\"/content/drive/My Drive/274/2019-Oct.csv\")\\ndata_2020_feb <- read.csv(\"/content/drive/My Drive/274/2020-Feb.csv\")\\ndata_2020_jan <- read.csv(\"/content/drive/My Drive/274/2020-Jan.csv\")'.\nR error message: 'Error in file(file, \"rt\") : cannot open the connection'"
     ]
    }
   ],
   "source": [
    "%%R\n",
    "#read the data \n",
    "data_2019_dec <- read.csv(\"/content/drive/My Drive/274/2019-Dec.csv\")\n",
    "data_2019_nov <- read.csv(\"/content/drive/My Drive/274/2019-Nov.csv\")\n",
    "data_2019_oct <- read.csv(\"/content/drive/My Drive/274/2019-Oct.csv\")\n",
    "data_2020_feb <- read.csv(\"/content/drive/My Drive/274/2020-Feb.csv\")\n",
    "data_2020_jan <- read.csv(\"/content/drive/My Drive/274/2020-Jan.csv\")"
   ]
  },
  {
   "cell_type": "code",
   "execution_count": null,
   "metadata": {
    "colab": {
     "base_uri": "https://localhost:8080/"
    },
    "executionInfo": {
     "elapsed": 1318,
     "status": "ok",
     "timestamp": 1650927031458,
     "user": {
      "displayName": "Shaunak Bhatlawande",
      "userId": "09453063941905038983"
     },
     "user_tz": 420
    },
    "id": "73BeBeQln8Us",
    "outputId": "35f279f8-0024-4164-fea0-797c259c4bd9"
   },
   "outputs": [
    {
     "name": "stdout",
     "output_type": "stream",
     "text": [
      "'data.frame':\t4102283 obs. of  9 variables:\n",
      " $ event_time   : chr  \"2019-10-01 00:00:00 UTC\" \"2019-10-01 00:00:03 UTC\" \"2019-10-01 00:00:07 UTC\" \"2019-10-01 00:00:07 UTC\" ...\n",
      " $ event_type   : chr  \"cart\" \"cart\" \"cart\" \"cart\" ...\n",
      " $ product_id   : int  5773203 5773353 5881589 5723490 5881449 5857269 5739055 5825598 5698989 5875317 ...\n",
      " $ category_id  : num  1.49e+18 1.49e+18 2.15e+18 1.49e+18 1.49e+18 ...\n",
      " $ category_code: chr  \"\" \"\" \"\" \"\" ...\n",
      " $ brand        : chr  \"runail\" \"runail\" \"lovely\" \"runail\" ...\n",
      " $ price        : num  2.62 2.62 13.48 2.62 0.56 ...\n",
      " $ user_id      : int  463240011 463240011 429681830 463240011 429681830 430174032 377667011 467916806 385985999 474232307 ...\n",
      " $ user_session : chr  \"26dd6e6e-4dac-4778-8d2c-92e149dab885\" \"26dd6e6e-4dac-4778-8d2c-92e149dab885\" \"49e8d843-adf3-428b-a2c3-fe8bc6a307c9\" \"26dd6e6e-4dac-4778-8d2c-92e149dab885\" ...\n",
      "\n",
      "'data.frame':\t4635837 obs. of  9 variables:\n",
      " $ event_time   : chr  \"2019-11-01 00:00:02 UTC\" \"2019-11-01 00:00:09 UTC\" \"2019-11-01 00:00:10 UTC\" \"2019-11-01 00:00:11 UTC\" ...\n",
      " $ event_type   : chr  \"view\" \"cart\" \"view\" \"cart\" ...\n",
      " $ product_id   : int  5802432 5844397 5837166 5876812 5826182 5826182 5856189 5837835 5870838 5870803 ...\n",
      " $ category_id  : num  1.49e+18 1.49e+18 1.78e+18 1.49e+18 1.49e+18 ...\n",
      " $ category_code: chr  \"\" \"\" \"\" \"\" ...\n",
      " $ brand        : chr  \"\" \"\" \"pnb\" \"jessnail\" ...\n",
      " $ price        : num  0.32 2.38 22.22 3.16 3.33 ...\n",
      " $ user_id      : int  562076640 553329724 556138645 564506666 553329724 553329724 562076640 514649199 429913900 429913900 ...\n",
      " $ user_session : chr  \"09fafd6c-6c99-46b1-834f-33527f4de241\" \"2067216c-31b5-455d-a1cc-af0575a34ffb\" \"57ed222e-a54a-4907-9944-5a875c2d7f4f\" \"186c1951-8052-4b37-adce-dd9644b1d5f7\" ...\n",
      "\n",
      "'data.frame':\t3533286 obs. of  9 variables:\n",
      " $ event_time   : chr  \"2019-12-01 00:00:00 UTC\" \"2019-12-01 00:00:00 UTC\" \"2019-12-01 00:00:02 UTC\" \"2019-12-01 00:00:05 UTC\" ...\n",
      " $ event_type   : chr  \"remove_from_cart\" \"view\" \"cart\" \"view\" ...\n",
      " $ product_id   : int  5712790 5764655 4958 5848413 5824148 5773361 5629988 5807805 5588608 5335 ...\n",
      " $ category_id  : num  1.49e+18 1.49e+18 1.49e+18 1.49e+18 1.49e+18 ...\n",
      " $ category_code: chr  \"\" \"\" \"\" \"\" ...\n",
      " $ brand        : chr  \"f.o.x\" \"cnd\" \"runail\" \"freedecor\" ...\n",
      " $ price        : num  6.27 29.05 1.19 0.79 5.56 ...\n",
      " $ user_id      : int  576802932 412120092 494077766 348405118 576005683 560109803 579966747 576005683 546170008 494077766 ...\n",
      " $ user_session : chr  \"51d85cb0-897f-48d2-918b-ad63965c12dc\" \"8adff31e-2051-4894-9758-224bfa8aec18\" \"c99a50e8-2fac-4c4d-89ec-41c05f114554\" \"722ffea5-73c0-4924-8e8f-371ff8031af4\" ...\n",
      "\n",
      "'data.frame':\t4264752 obs. of  9 variables:\n",
      " $ event_time   : chr  \"2020-01-01 00:00:00 UTC\" \"2020-01-01 00:00:09 UTC\" \"2020-01-01 00:00:19 UTC\" \"2020-01-01 00:00:24 UTC\" ...\n",
      " $ event_type   : chr  \"view\" \"view\" \"view\" \"view\" ...\n",
      " $ product_id   : int  5809910 5812943 5798924 5793052 5899926 5837111 5850281 5802440 5726464 5850281 ...\n",
      " $ category_id  : num  1.60e+18 1.49e+18 1.78e+18 1.49e+18 2.12e+18 ...\n",
      " $ category_code: chr  \"\" \"\" \"\" \"\" ...\n",
      " $ brand        : chr  \"grattol\" \"kinetics\" \"zinger\" \"\" ...\n",
      " $ price        : num  5.24 3.97 3.97 4.92 3.92 ...\n",
      " $ user_id      : int  595414620 595414640 595412617 420652863 484071203 595412617 593016733 595411904 420652863 593016733 ...\n",
      " $ user_session : chr  \"4adb70bb-edbd-4981-b60f-a05bfd32683a\" \"c8c5205d-be43-4f1d-aa56-4828b8151c8a\" \"46a5010f-bd69-4fbe-a00d-bb17aa7b46f3\" \"546f6af3-a517-4752-a98b-80c4c5860711\" ...\n",
      "\n",
      "'data.frame':\t4156682 obs. of  9 variables:\n",
      " $ event_time   : chr  \"2020-02-01 00:00:01 UTC\" \"2020-02-01 00:00:03 UTC\" \"2020-02-01 00:00:08 UTC\" \"2020-02-01 00:00:11 UTC\" ...\n",
      " $ event_type   : chr  \"cart\" \"view\" \"view\" \"view\" ...\n",
      " $ product_id   : int  5844305 5769925 5817765 5877033 5814871 5790563 5790563 5528034 5813498 5867134 ...\n",
      " $ category_id  : num  1.49e+18 1.49e+18 1.49e+18 1.49e+18 1.49e+18 ...\n",
      " $ category_code: chr  \"\" \"\" \"\" \"\" ...\n",
      " $ brand        : chr  \"\" \"kapous\" \"zeitun\" \"milv\" ...\n",
      " $ price        : num  2.14 4.22 11.03 3.49 2.54 ...\n",
      " $ user_id      : int  485174092 594621622 495404942 564814969 551205603 607092857 607092857 583267679 583267679 495404942 ...\n",
      " $ user_session : chr  \"4be9643a-420b-4c6b-83dd-a15e772fbf7a\" \"a88baf11-9cd0-4362-bde4-1bfeed3f641d\" \"3a569c8d-d848-4f09-a925-33f673d84c46\" \"7feb39e5-bb7b-4b2b-a546-3e3b7c56326e\" ...\n"
     ]
    }
   ],
   "source": [
    "%%R\n",
    "str(data_2019_oct)\n",
    "cat(\"\\n\")\n",
    "str(data_2019_nov)\n",
    "cat(\"\\n\")\n",
    "str(data_2019_dec)\n",
    "cat(\"\\n\")\n",
    "str(data_2020_jan)\n",
    "cat(\"\\n\")\n",
    "str(data_2020_feb)"
   ]
  },
  {
   "cell_type": "code",
   "execution_count": null,
   "metadata": {
    "id": "CSM1NSGMpvQi"
   },
   "outputs": [],
   "source": [
    "%%R\n",
    "#remove the unwanted columns and fixing outliers of negative prices \n",
    "sample_2019_oct <- data_2019_oct[c(-3,-4,-5,-9)]\n",
    "s1 <- sum(sample_2019_oct$price<0)\n",
    "sample_2019_oct <- sample_2019_oct[(sample_2019_oct$price>0),]\n",
    "t1 <- nrow(sample_2019_oct)\n",
    "\n",
    "sample_2019_nov <- data_2019_nov[c(-3,-4,-5,-9)]\n",
    "s2 <- sum(sample_2019_nov$price<0)\n",
    "sample_2019_nov <- sample_2019_nov[(sample_2019_nov$price>0),]\n",
    "t2 <- nrow(sample_2019_nov)\n",
    "\n",
    "sample_2019_dec <- data_2019_dec[c(-3,-4,-5,-9)]\n",
    "s3 <- sum(sample_2019_dec$price<0)\n",
    "sample_2019_dec <- sample_2019_dec[(sample_2019_dec$price>0),]\n",
    "t3 <- nrow(sample_2019_dec)\n",
    "\n",
    "sample_2020_jan <- data_2020_jan[c(-3,-4,-5,-9)]\n",
    "s4 <- sum(sample_2020_jan$price<0)\n",
    "sample_2020_jan <- sample_2020_jan[(sample_2020_jan$price>0),]\n",
    "t4 <- nrow(sample_2020_jan)\n",
    "\n",
    "sample_2020_feb <- data_2020_feb[c(-3,-4,-5,-9)]\n",
    "s5 <- sum(sample_2020_feb$price<0)\n",
    "sample_2020_feb <- sample_2020_feb[(sample_2020_feb$price>0),]\n",
    "t5 <- nrow(sample_2020_feb)"
   ]
  },
  {
   "cell_type": "code",
   "execution_count": null,
   "metadata": {
    "colab": {
     "base_uri": "https://localhost:8080/"
    },
    "executionInfo": {
     "elapsed": 16,
     "status": "ok",
     "timestamp": 1650927038522,
     "user": {
      "displayName": "Shaunak Bhatlawande",
      "userId": "09453063941905038983"
     },
     "user_tz": 420
    },
    "id": "EsX7ib1gp3gG",
    "outputId": "4ef2246a-a087-4903-b5cf-17b33af20736"
   },
   "outputs": [
    {
     "name": "stdout",
     "output_type": "stream",
     "text": [
      "[1] 0.0006362759\n"
     ]
    }
   ],
   "source": [
    "%%R\n",
    "#the percentage of outliers in the combined dataset that was removed \n",
    "total_per_outliers_removed <- (sum(s1,s2,s3,s4,s5)/sum(t1,t2,t3,t4,t5)) * 100\n",
    "total_per_outliers_removed"
   ]
  },
  {
   "cell_type": "code",
   "execution_count": null,
   "metadata": {
    "id": "9b1GyR7Gp-Vm"
   },
   "outputs": [],
   "source": [
    "%%R\n",
    "#remove unwanted attributed from workspace\n",
    "rm(total_per_outliers_removed, t5,t4,t3,t2,t1,s1,s2,s3,s4,s5, data_2019_oct, data_2019_nov, data_2019_dec, data_2020_jan, data_2020_feb)"
   ]
  },
  {
   "cell_type": "code",
   "execution_count": null,
   "metadata": {
    "colab": {
     "base_uri": "https://localhost:8080/"
    },
    "executionInfo": {
     "elapsed": 1425,
     "status": "ok",
     "timestamp": 1650927039936,
     "user": {
      "displayName": "Shaunak Bhatlawande",
      "userId": "09453063941905038983"
     },
     "user_tz": 420
    },
    "id": "8SKaSdGWqGS-",
    "outputId": "372579c2-fc8a-4853-9765-d1ebf2fcde71"
   },
   "outputs": [
    {
     "name": "stdout",
     "output_type": "stream",
     "text": [
      "event_time event_type      brand      price    user_id \n",
      "         0          0          0          0          0 \n"
     ]
    }
   ],
   "source": [
    "%%R\n",
    "#missing values detection if any\n",
    "\n",
    "sapply(sample_2019_oct, function(x) sum(is.na(x)))\n",
    "sapply(sample_2019_nov, function(x) sum(is.na(x)))\n",
    "sapply(sample_2019_dec, function(x) sum(is.na(x)))\n",
    "sapply(sample_2020_jan, function(x) sum(is.na(x)))\n",
    "sapply(sample_2020_feb, function(x) sum(is.na(x)))"
   ]
  },
  {
   "cell_type": "code",
   "execution_count": null,
   "metadata": {
    "id": "zefeRDGYqKlO"
   },
   "outputs": [],
   "source": [
    "%%R\n",
    "#date time split \n",
    "\n",
    "library(hms)\n",
    "\n",
    "parsed1 <- strptime(sample_2019_oct$event_time, \"%Y-%m-%d %H:%M:%S\")\n",
    "event_time<- format(parsed1,\"%H:%M:%S\")\n",
    "event_date<- format(parsed1,\"%Y-%m-%d\")\n",
    "sample_2019_oct$event_time<- as_hms(event_time)\n",
    "sample_2019_oct$event_date<- as.Date(event_date)\n",
    "\n",
    "parsed2 <- strptime(sample_2019_nov$event_time, \"%Y-%m-%d %H:%M:%S\")\n",
    "event_time<- format(parsed2,\"%H:%M:%S\")\n",
    "event_date<- format(parsed2,\"%Y-%m-%d\")\n",
    "sample_2019_nov$event_time<- as_hms(event_time)\n",
    "sample_2019_nov$event_date_ <- as.Date(event_date)\n",
    "\n",
    "parsed3 <- strptime(sample_2019_dec$event_time, \"%Y-%m-%d %H:%M:%S\")\n",
    "event_time<- format(parsed3,\"%H:%M:%S\")\n",
    "event_date<- format(parsed3,\"%Y-%m-%d\")\n",
    "sample_2019_dec$event_time <- as_hms(event_time)\n",
    "sample_2019_dec$event_date <- as.Date(event_date)\n",
    "\n",
    "parsed4 <- strptime(sample_2020_jan$event_time, \"%Y-%m-%d %H:%M:%S\")\n",
    "event_time<- format(parsed4,\"%H:%M:%S\")\n",
    "event_date<- format(parsed4,\"%Y-%m-%d\")\n",
    "sample_2020_jan$event_time <- as_hms(event_time)\n",
    "sample_2020_jan$event_date <- as.Date(event_date)\n",
    "\n",
    "parsed5 <- strptime(sample_2020_feb$event_time, \"%Y-%m-%d %H:%M:%S\")\n",
    "event_time<- format(parsed5,\"%H:%M:%S\")\n",
    "event_date<- format(parsed5,\"%Y-%m-%d\")\n",
    "sample_2020_feb$event_time <- as_hms(event_time)\n",
    "sample_2020_feb$event_date <- as.Date(event_date)"
   ]
  },
  {
   "cell_type": "code",
   "execution_count": null,
   "metadata": {
    "colab": {
     "base_uri": "https://localhost:8080/"
    },
    "executionInfo": {
     "elapsed": 883,
     "status": "ok",
     "timestamp": 1650927256397,
     "user": {
      "displayName": "Shaunak Bhatlawande",
      "userId": "09453063941905038983"
     },
     "user_tz": 420
    },
    "id": "rGiUX7X6qRKW",
    "outputId": "91100d1a-8980-4481-d437-b2813bc7eb4a"
   },
   "outputs": [
    {
     "name": "stdout",
     "output_type": "stream",
     "text": [
      "'data.frame':\t4096197 obs. of  6 variables:\n",
      " $ event_time: 'hms' num  00:00:00 00:00:03 00:00:07 00:00:07 ...\n",
      "  ..- attr(*, \"units\")= chr \"secs\"\n",
      " $ event_type: chr  \"cart\" \"cart\" \"cart\" \"cart\" ...\n",
      " $ brand     : chr  \"runail\" \"runail\" \"lovely\" \"runail\" ...\n",
      " $ price     : num  2.62 2.62 13.48 2.62 0.56 ...\n",
      " $ user_id   : int  463240011 463240011 429681830 463240011 429681830 430174032 377667011 467916806 385985999 474232307 ...\n",
      " $ event_date: Date, format: \"2019-10-01\" \"2019-10-01\" ...\n",
      "\n",
      "'data.frame':\t4624195 obs. of  6 variables:\n",
      " $ event_time : 'hms' num  00:00:02 00:00:09 00:00:10 00:00:11 ...\n",
      "  ..- attr(*, \"units\")= chr \"secs\"\n",
      " $ event_type : chr  \"view\" \"cart\" \"view\" \"cart\" ...\n",
      " $ brand      : chr  \"\" \"\" \"pnb\" \"jessnail\" ...\n",
      " $ price      : num  0.32 2.38 22.22 3.16 3.33 ...\n",
      " $ user_id    : int  562076640 553329724 556138645 564506666 553329724 553329724 562076640 514649199 429913900 429913900 ...\n",
      " $ event_date_: Date, format: \"2019-11-01\" \"2019-11-01\" ...\n",
      "\n",
      "'data.frame':\t3525679 obs. of  6 variables:\n",
      " $ event_time: 'hms' num  00:00:00 00:00:00 00:00:02 00:00:05 ...\n",
      "  ..- attr(*, \"units\")= chr \"secs\"\n",
      " $ event_type: chr  \"remove_from_cart\" \"view\" \"cart\" \"view\" ...\n",
      " $ brand     : chr  \"f.o.x\" \"cnd\" \"runail\" \"freedecor\" ...\n",
      " $ price     : num  6.27 29.05 1.19 0.79 5.56 ...\n",
      " $ user_id   : int  576802932 412120092 494077766 348405118 576005683 560109803 579966747 576005683 546170008 494077766 ...\n",
      " $ event_date: Date, format: \"2019-12-01\" \"2019-12-01\" ...\n",
      "\n",
      "'data.frame':\t4257090 obs. of  6 variables:\n",
      " $ event_time: 'hms' num  00:00:00 00:00:09 00:00:19 00:00:24 ...\n",
      "  ..- attr(*, \"units\")= chr \"secs\"\n",
      " $ event_type: chr  \"view\" \"view\" \"view\" \"view\" ...\n",
      " $ brand     : chr  \"grattol\" \"kinetics\" \"zinger\" \"\" ...\n",
      " $ price     : num  5.24 3.97 3.97 4.92 3.92 ...\n",
      " $ user_id   : int  595414620 595414640 595412617 420652863 484071203 595412617 593016733 595411904 420652863 593016733 ...\n",
      " $ event_date: Date, format: \"2020-01-01\" \"2020-01-01\" ...\n",
      "\n",
      "'data.frame':\t4085391 obs. of  6 variables:\n",
      " $ event_time: 'hms' num  00:00:01 00:00:03 00:00:08 00:00:11 ...\n",
      "  ..- attr(*, \"units\")= chr \"secs\"\n",
      " $ event_type: chr  \"cart\" \"view\" \"view\" \"view\" ...\n",
      " $ brand     : chr  \"\" \"kapous\" \"zeitun\" \"milv\" ...\n",
      " $ price     : num  2.14 4.22 11.03 3.49 2.54 ...\n",
      " $ user_id   : int  485174092 594621622 495404942 564814969 551205603 607092857 607092857 583267679 583267679 495404942 ...\n",
      " $ event_date: Date, format: \"2020-02-01\" \"2020-02-01\" ...\n"
     ]
    }
   ],
   "source": [
    "%%R\n",
    "#check to see if it worked \n",
    "str(sample_2019_oct)\n",
    "cat(\"\\n\")\n",
    "str(sample_2019_nov)\n",
    "cat(\"\\n\")\n",
    "str(sample_2019_dec)\n",
    "cat(\"\\n\")\n",
    "str(sample_2020_jan)\n",
    "cat(\"\\n\")\n",
    "str(sample_2020_feb)"
   ]
  },
  {
   "cell_type": "code",
   "execution_count": null,
   "metadata": {
    "id": "EFRexD_3rAAN"
   },
   "outputs": [],
   "source": [
    "%%R\n",
    "#remove unwanted attributes from workspace\n",
    "rm(parsed1, parsed2, parsed3, parsed4, parsed5, event_time, event_date)"
   ]
  },
  {
   "cell_type": "markdown",
   "metadata": {
    "id": "8h7dS0ovvpcD"
   },
   "source": [
    "## 3. Business Insights and Recommendations"
   ]
  },
  {
   "cell_type": "markdown",
   "metadata": {
    "id": "1VdVVGHGwAwm"
   },
   "source": [
    "### 3.1. Investigating December fall"
   ]
  },
  {
   "cell_type": "code",
   "execution_count": null,
   "metadata": {
    "colab": {
     "base_uri": "https://localhost:8080/",
     "height": 497
    },
    "executionInfo": {
     "elapsed": 13732,
     "status": "ok",
     "timestamp": 1650927270125,
     "user": {
      "displayName": "Shaunak Bhatlawande",
      "userId": "09453063941905038983"
     },
     "user_tz": 420
    },
    "id": "STrkc5KnrD_-",
    "outputId": "9d0baccb-9521-4601-e15c-ddeb7999c5c8"
   },
   "outputs": [
    {
     "data": {
      "image/png": "[encoded data removed]"
     },
     "metadata": {},
     "output_type": "display_data"
    }
   ],
   "source": [
    "%%R\n",
    "#Distribution of event history across each month. \n",
    "\n",
    "library(ggplot2)\n",
    "library(gridExtra)\n",
    "\n",
    "options(repr.plot.width = 12, repr.plot.height = 10)\n",
    "plot1 <- ggplot(data = sample_2019_oct) + geom_bar(mapping = aes(x = event_type, fill = event_type), show.legend = FALSE) + theme_linedraw() + ggtitle(\"Distribution of event type - Oct 2019\") + xlab(\"Event type\") + ylab(\"Count\")\n",
    "plot2 <- ggplot(data = sample_2019_nov) + geom_bar(mapping = aes(x = event_type, fill = event_type), show.legend = FALSE) + theme_linedraw() + ggtitle(\"Distribution of event type - Nov 2019\") + xlab(\"Event type\") + ylab(\"Count\")\n",
    "plot3 <- ggplot(data = sample_2019_dec) + geom_bar(mapping = aes(x = event_type, fill = event_type), show.legend = FALSE) + theme_linedraw() + ggtitle(\"Distribution of event type - Dec 2019\") + xlab(\"Event type\") + ylab(\"Count\")\n",
    "plot4 <- ggplot(data = sample_2020_jan) + geom_bar(mapping = aes(x = event_type, fill = event_type), show.legend = FALSE) + theme_linedraw() + ggtitle(\"Distribution of event type - Jan 2020\") + xlab(\"Event type\") + ylab(\"Count\")\n",
    "plot5 <- ggplot(data = sample_2020_feb) + geom_bar(mapping = aes(x = event_type, fill = event_type)) + theme_linedraw() + ggtitle(\"Distribution of event type - Feb 2020\") + xlab(\"Event type\") + ylab(\"Count\")\n",
    "grid.arrange(plot1,plot2,plot3,plot4,plot5)"
   ]
  },
  {
   "cell_type": "code",
   "execution_count": null,
   "metadata": {
    "id": "2ryfKmmxrLR9"
   },
   "outputs": [],
   "source": [
    "%%R\n",
    "#remove unwanted attributes from the workspace\n",
    "rm(plot1,plot2,plot3,plot4,plot5)"
   ]
  },
  {
   "cell_type": "code",
   "execution_count": null,
   "metadata": {
    "colab": {
     "base_uri": "https://localhost:8080/",
     "height": 497
    },
    "executionInfo": {
     "elapsed": 1544,
     "status": "ok",
     "timestamp": 1650927271658,
     "user": {
      "displayName": "Shaunak Bhatlawande",
      "userId": "09453063941905038983"
     },
     "user_tz": 420
    },
    "id": "4IdaNSXTrV-B",
    "outputId": "9cabec33-f43c-427c-ea78-29b15ceb8765"
   },
   "outputs": [
    {
     "data": {
      "image/png": "[encoded data removed]"
     },
     "metadata": {},
     "output_type": "display_data"
    }
   ],
   "source": [
    "%%R\n",
    "#trend line for event history \n",
    "\n",
    "tab1 <- as.data.frame(table(sample_2019_oct$event_type))\n",
    "names(tab1) <- c(\"Event_type\", \"Freq\")\n",
    "tab1$Month <- \"2019-10\"\n",
    "tab2 <- as.data.frame(table(sample_2019_nov$event_type))\n",
    "names(tab2) <- c(\"Event_type\", \"Freq\")\n",
    "tab2$Month <- \"2019-11\"\n",
    "tab3 <- as.data.frame(table(sample_2019_dec$event_type))\n",
    "names(tab3) <- c(\"Event_type\", \"Freq\")\n",
    "tab3$Month <- \"2019-12\"\n",
    "tab4 <- as.data.frame(table(sample_2020_jan$event_type))\n",
    "names(tab4) <- c(\"Event_type\", \"Freq\")\n",
    "tab4$Month <- \"2020-01\"\n",
    "tab5 <- as.data.frame(table(sample_2020_feb$event_type))\n",
    "names(tab5) <- c(\"Event_type\", \"Freq\")\n",
    "tab5$Month <- \"2020-02\"\n",
    "trend <- rbind(tab1, tab2, tab3, tab4, tab5)\n",
    "\n",
    "options(repr.plot.width = 8, repr.plot.height = 5)\n",
    "ggplot(data = trend, mapping = aes(x = Month, y = Freq/100000)) + geom_line(mapping = aes(color = Event_type, group = Event_type), lwd = 1.5) + geom_point(mapping = aes(color = Event_type, size = 0.5), show.legend = FALSE) + theme_linedraw() + ggtitle(\"Event history trend over months\") + xlab(\"Time period\") + ylab(\"Total Count (in 100 Thousands)\")"
   ]
  },
  {
   "cell_type": "code",
   "execution_count": null,
   "metadata": {
    "id": "mDMaz9T7rh3Q"
   },
   "outputs": [],
   "source": [
    "%%R\n",
    "#remove the unwanted attributes from the workspace \n",
    "\n",
    "rm(tab1,tab2,tab3,tab4,tab5)"
   ]
  },
  {
   "cell_type": "code",
   "execution_count": null,
   "metadata": {
    "colab": {
     "base_uri": "https://localhost:8080/",
     "height": 1000
    },
    "executionInfo": {
     "elapsed": 5166,
     "status": "ok",
     "timestamp": 1650927276818,
     "user": {
      "displayName": "Shaunak Bhatlawande",
      "userId": "09453063941905038983"
     },
     "user_tz": 420
    },
    "id": "QNNd-ryZrnjI",
    "outputId": "5dd20e23-a2f5-469d-e420-1ce8e93cc095"
   },
   "outputs": [
    {
     "name": "stderr",
     "output_type": "stream",
     "text": [
      "R[write to console]: \n",
      "Attaching package: ‘lubridate’\n",
      "\n",
      "\n",
      "R[write to console]: The following object is masked from ‘package:hms’:\n",
      "\n",
      "    hms\n",
      "\n",
      "\n",
      "R[write to console]: The following objects are masked from ‘package:base’:\n",
      "\n",
      "    date, intersect, setdiff, union\n",
      "\n",
      "\n",
      "R[write to console]: ── Attaching packages ─────────────────────────────────────── tidyverse 1.3.1 ──\n",
      "\n",
      "R[write to console]: ✔ tibble  3.1.6     ✔ dplyr   1.0.8\n",
      "✔ tidyr   1.2.0     ✔ stringr 1.4.0\n",
      "✔ readr   2.1.2     ✔ forcats 0.5.1\n",
      "✔ purrr   0.3.4     \n",
      "\n",
      "R[write to console]: ── Conflicts ────────────────────────────────────────── tidyverse_conflicts() ──\n",
      "✖ lubridate::as.difftime() masks base::as.difftime()\n",
      "✖ dplyr::combine()         masks gridExtra::combine()\n",
      "✖ lubridate::date()        masks base::date()\n",
      "✖ dplyr::filter()          masks stats::filter()\n",
      "✖ lubridate::hms()         masks hms::hms()\n",
      "✖ lubridate::intersect()   masks base::intersect()\n",
      "✖ dplyr::lag()             masks stats::lag()\n",
      "✖ lubridate::setdiff()     masks base::setdiff()\n",
      "✖ lubridate::union()       masks base::union()\n",
      "\n",
      "R[write to console]: `geom_smooth()` using formula 'y ~ s(x, bs = \"cs\")'\n",
      "\n"
     ]
    },
    {
     "data": {
      "image/png": "[encoded data removed]"
     },
     "metadata": {},
     "output_type": "display_data"
    }
   ],
   "source": [
    "%%R\n",
    "#Daily sales \n",
    "\n",
    "#assuming selling price is same as price listed \n",
    "\n",
    "library(lubridate)\n",
    "library(tidyverse)\n",
    "library(dplyr)\n",
    "\n",
    "s1 <- sample_2019_oct %>% filter(event_type == \"purchase\") %>% select(price, event_date)\n",
    "s1 <- aggregate(price ~ event_date, s1, sum)\n",
    "s2 <- sample_2019_nov %>% filter(event_type == \"purchase\") %>% select(price, event_date_)\n",
    "s2 <- aggregate(price ~ event_date_, s2, sum)\n",
    "names(s2) <- c(\"event_date\", \"price\")\n",
    "s3 <- sample_2019_dec %>% filter(event_type == \"purchase\") %>% select(price, event_date)\n",
    "s3 <- aggregate(price ~ event_date, s3, sum)\n",
    "s4 <- sample_2020_jan %>% filter(event_type == \"purchase\") %>% select(price, event_date)\n",
    "s4 <- aggregate(price ~ event_date, s4, sum)\n",
    "s5 <- sample_2020_feb %>% filter(event_type == \"purchase\") %>% select(price, event_date)\n",
    "s5 <- aggregate(price ~ event_date, s5, sum)\n",
    "\n",
    "sales <- rbind(s1,s2,s3,s4,s5)\n",
    "sales$period <- month(sales$event_date)\n",
    "\n",
    "sales[(sales$price == (max(sales$price))),]\n",
    "sales[(sales$price == (min(sales$price))),]\n",
    "\n",
    "options(repr.plot.width = 8, repr.plot.height = 8)\n",
    "ggplot(data = sales, mapping = aes(x = event_date, y = price)) + geom_line(lwd = 0.7) + geom_smooth(method = \"gam\", se = TRUE, alpha = 0.5) + scale_y_continuous(breaks = c(6900,25000,50000,75000,102000)) + geom_hline(mapping = aes(yintercept = min(price)), linetype = \"dashed\", color = \"red\") +  geom_hline(mapping = aes(yintercept = max(price)), linetype = \"dashed\", color = \"red\") +  xlab(\"Time period\") + ylab(\"Total Sales\") + theme_linedraw() + ggtitle(\"Total Sales across time period\", subtitle = \"Max Sale - Nov22,2019 \\nMin Sale - Dec31,2019\")"
   ]
  },
  {
   "cell_type": "markdown",
   "metadata": {
    "id": "HpzSxZYytWrm"
   },
   "source": [
    "**Recommendation 1**: Offer tailor made marketing campaigns and offers via emails"
   ]
  },
  {
   "cell_type": "markdown",
   "metadata": {
    "id": "UT0zsVxbwPNN"
   },
   "source": []
  },
  {
   "cell_type": "code",
   "execution_count": null,
   "metadata": {
    "id": "svfCMu_ErsB6"
   },
   "outputs": [],
   "source": [
    "%%R\n",
    "#remove unwanted attributes from the workspace \n",
    "rm(s1,s2,s3,s4,s5)"
   ]
  },
  {
   "cell_type": "markdown",
   "metadata": {
    "id": "Re5x_BlQwQLw"
   },
   "source": [
    "### 3.2. Impact of conversion and cart abandonment rate"
   ]
  },
  {
   "cell_type": "code",
   "execution_count": null,
   "metadata": {
    "colab": {
     "base_uri": "https://localhost:8080/",
     "height": 497
    },
    "executionInfo": {
     "elapsed": 25,
     "status": "ok",
     "timestamp": 1650927276821,
     "user": {
      "displayName": "Shaunak Bhatlawande",
      "userId": "09453063941905038983"
     },
     "user_tz": 420
    },
    "id": "bwzJicGArwXk",
    "outputId": "cf8894ce-c48f-463e-f593-e28d2e296dc8"
   },
   "outputs": [
    {
     "data": {
      "image/png": "[encoded data removed]"
     },
     "metadata": {},
     "output_type": "display_data"
    }
   ],
   "source": [
    "%%R\n",
    "#cart abandonment rate and conversion rate (conversion goal is purchases made)\n",
    "\n",
    "cart <- trend %>% filter(Event_type == \"cart\")\n",
    "purchase <- trend %>% filter(Event_type == \"purchase\")\n",
    "removed <- trend %>% filter(Event_type == \"remove_from_cart\")\n",
    "view <- trend %>% filter(Event_type == \"view\")\n",
    "\n",
    "#cart abandonment rate \n",
    "ab_rate <- (1- (purchase$Freq/cart$Freq)) * 100 \n",
    "#conversion rate for purchases made \n",
    "conv_rate <- (purchase$Freq/(view$Freq + cart$Freq + removed$Freq + purchase$Freq)) * 100 \n",
    "month <- c(\"2019-10\", \"2019-11\", \"2019-12\", \"2020-01\", \"2020-02\")\n",
    "rate <- data.frame(ab_rate, conv_rate, month)\n",
    "rate\n",
    "\n",
    "options(repr.plot.width = 13, repr.plot.height = 5)\n",
    "p1 <- ggplot(data = rate, mapping = aes(x = month)) + geom_line(mapping = aes(y = ab_rate, group = 1), lwd = 1.15) + geom_point(mapping = aes(y = ab_rate, color = month, size = 1), show.legend = FALSE) + theme_linedraw() +  ggtitle(\"Cart abandonment rate per month \") + xlab(\"Time period\") + ylab(\"Abandonment rate (in %)\")\n",
    "options(repr.plot.width = 13, repr.plot.height = 5)\n",
    "p2 <- ggplot(data = rate, mapping = aes(x = month)) + geom_line(mapping = aes(y = conv_rate, group = 1), lwd = 1.15) + geom_point(mapping = aes(y = conv_rate, color = month, size = 1), show.legend = FALSE) + theme_linedraw() +  ggtitle(\"Conversion rate per month \") + xlab(\"Time period\") + ylab(\"Conversion rate (in %)\")\n",
    "\n",
    "grid.arrange(p1,p2, nrow = 1)"
   ]
  },
  {
   "cell_type": "markdown",
   "metadata": {
    "id": "PkXuraI1tRY1"
   },
   "source": [
    "**Recommendation 2**: Introduce email marketing re-targeting of customers who abandoned the cart alongside offering promotional coupons of discount or other resources. To offer free shipping for total purchase crossing a threshold and to offer guest checkout functions with easy access to payment gateways."
   ]
  },
  {
   "cell_type": "markdown",
   "metadata": {
    "id": "CRgNYELpwXMK"
   },
   "source": [
    "### 3.3. Impact of power of retention based on loyal customers"
   ]
  },
  {
   "cell_type": "code",
   "execution_count": null,
   "metadata": {
    "id": "jjqaiwJIr1Wz"
   },
   "outputs": [],
   "source": [
    "%%R\n",
    "#remove unwanted attributes from the workspace \n",
    "rm(cart,purchase, view, removed, ab_rate, conv_rate, month, p1, p2)"
   ]
  },
  {
   "cell_type": "code",
   "execution_count": null,
   "metadata": {
    "colab": {
     "base_uri": "https://localhost:8080/",
     "height": 497
    },
    "executionInfo": {
     "elapsed": 43349,
     "status": "ok",
     "timestamp": 1650927320150,
     "user": {
      "displayName": "Shaunak Bhatlawande",
      "userId": "09453063941905038983"
     },
     "user_tz": 420
    },
    "id": "D44PzV63r9qv",
    "outputId": "2f792d42-a8d8-4cfa-902a-f6cde7bef67f"
   },
   "outputs": [
    {
     "data": {
      "image/png": "[encoded data removed]"
     },
     "metadata": {},
     "output_type": "display_data"
    }
   ],
   "source": [
    "%%R\n",
    "#who has brought in highest revenue \n",
    "\n",
    "t1 <- sample_2019_oct %>% select(user_id, event_type, price)\n",
    "t2 <- sample_2019_nov %>% select(user_id, event_type, price)\n",
    "t3 <- sample_2019_dec %>% select(user_id, event_type, price)\n",
    "t4 <- sample_2020_jan %>% select(user_id, event_type, price)\n",
    "t5 <- sample_2020_feb %>% select(user_id, event_type, price)\n",
    "t6 <- rbind(t1,t2,t3,t4,t5)\n",
    "\n",
    "#remove unwanted attributes from the workspace \n",
    "rm(t1,t2,t3,t4,t5)\n",
    "\n",
    "loyalty <- t6 %>% filter(event_type == \"purchase\") \n",
    "loyal <- aggregate(price ~ user_id, loyalty, sum)\n",
    "loyal <- loyal[(loyal$price>0),] #remove the observations where prices are below 0; total 16\n",
    "loyal <- loyal %>% arrange(desc(price)) \n",
    "top_10 <- head(loyal, 10)\n",
    "top_10$key <- factor(c(\"A\",\"B\",\"C\",\"D\", \"E\", \"F\", \"G\", \"H\", \"I\", \"J\"))\n",
    "top_10\n",
    "worst_10 <- tail(loyal, 10)\n",
    "\n",
    "options(repr.plot.width = 8, repr.plot.height = 6)\n",
    "ggplot(data = top_10, mapping = aes(x = key, y = price)) + geom_bar(stat = \"identity\", mapping = aes(fill = key)) + coord_flip() +  scale_y_continuous(breaks = c(0,500,1000,1500,2000,2500,3000,3500, 4000)) + theme_linedraw() +  ggtitle(\"Revenue brought in by most loyal customers\") + xlab(\"User (in key)\") + ylab(\"Revenue (in dollars)\")"
   ]
  },
  {
   "cell_type": "markdown",
   "metadata": {
    "id": "Wx810lnUwcsh"
   },
   "source": [
    "### 3.4. Impact of price and time"
   ]
  },
  {
   "cell_type": "code",
   "execution_count": null,
   "metadata": {
    "colab": {
     "base_uri": "https://localhost:8080/",
     "height": 497
    },
    "executionInfo": {
     "elapsed": 65046,
     "status": "ok",
     "timestamp": 1650927385185,
     "user": {
      "displayName": "Shaunak Bhatlawande",
      "userId": "09453063941905038983"
     },
     "user_tz": 420
    },
    "id": "msh8MSLEsTBy",
    "outputId": "e6cddec9-76de-416d-9831-fd4aaf41d667"
   },
   "outputs": [
    {
     "data": {
      "image/png": "[encoded data removed]"
     },
     "metadata": {},
     "output_type": "display_data"
    }
   ],
   "source": [
    "%%R\n",
    "# Price vs hour categorized by event type \n",
    "\n",
    "t1 <- sample_2019_oct %>% select(price, event_time, event_type)\n",
    "t1$hour <- hour(t1$event_time)\n",
    "t2 <- sample_2019_nov %>% select(price, event_time, event_type)\n",
    "t2$hour <- hour(t2$event_time)\n",
    "t3 <- sample_2019_dec %>% select(price, event_time, event_type)\n",
    "t3$hour <- hour(t3$event_time)\n",
    "t4 <- sample_2020_jan %>% select(price, event_time, event_type)\n",
    "t4$hour <- hour(t4$event_time)\n",
    "t5 <- sample_2020_feb %>% select(price, event_time, event_type)\n",
    "t5$hour <- hour(t5$event_time)\n",
    "time <- rbind(t1,t2,t3,t4,t5)\n",
    "time_hour <- aggregate(price ~ event_type + hour, time, sum)\n",
    "head(time_hour)\n",
    "\n",
    "options(repr.plot.width = 10, repr.plot.height = 6)\n",
    "ggplot(data = time_hour, mapping = aes(x = hour, y = scale(price))) + geom_line(mapping = aes(color = event_type), lwd = 1.2) + theme_linedraw() + ggtitle(\"Relationship between price and hour of the day based on event type\") + xlab(\"Time (in Hours)\") + ylab(\"Scaled Price\") +  geom_vline(mapping = aes(xintercept = 19), linetype = \"dashed\", color = \"black\") +  geom_vline(mapping = aes(xintercept = 11), linetype = \"dashed\", color = \"black\") +  geom_text(mapping = aes(x = 10, y = -0.5), label = \"Max - Purchase\") + geom_text(mapping = aes(x = 19, y = 2.7), label = \"Max - View, Cart, Remove\") + scale_x_continuous(breaks = c(0:24))"
   ]
  },
  {
   "cell_type": "markdown",
   "metadata": {
    "id": "_0lb_RWxsuoY"
   },
   "source": [
    "**Recommendation 3**: With respect to price, compelling discountings can be\n",
    "offered at crucial times such as 11am to increase the website traffic during working hours of the day. Time based promotional events can take full advantage of the time and price impact of our analysis.\n",
    "\n",
    "**Recommendation 4**: Treat each of this funneling process with different marketing techniques and models specific to them to ensure new customers come in and they don’t leave after a short period. Additionally to instill a loyalty program given the repeated purchasing power.\n"
   ]
  },
  {
   "cell_type": "code",
   "execution_count": null,
   "metadata": {
    "id": "CPn_rbHcshOA"
   },
   "outputs": [],
   "source": []
  }
 ],
 "metadata": {
  "accelerator": "GPU",
  "colab": {
   "collapsed_sections": [],
   "name": "CMPE_274_FINAL.ipynb",
   "provenance": []
  },
  "kernelspec": {
   "display_name": "Python 3 (ipykernel)",
   "language": "python",
   "name": "python3"
  },
  "language_info": {
   "codemirror_mode": {
    "name": "ipython",
    "version": 3
   },
   "file_extension": ".py",
   "mimetype": "text/x-python",
   "name": "python",
   "nbconvert_exporter": "python",
   "pygments_lexer": "ipython3",
   "version": "3.7.6"
  }
 },
 "nbformat": 4,
 "nbformat_minor": 1
}
